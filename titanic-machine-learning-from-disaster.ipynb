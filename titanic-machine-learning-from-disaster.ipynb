{
 "cells": [
  {
   "cell_type": "code",
   "execution_count": 1,
   "id": "8109f7a5",
   "metadata": {
    "_cell_guid": "b1076dfc-b9ad-4769-8c92-a6c4dae69d19",
    "_uuid": "8f2839f25d086af736a60e9eeb907d3b93b6e0e5",
    "execution": {
     "iopub.execute_input": "2025-08-31T15:48:11.658750Z",
     "iopub.status.busy": "2025-08-31T15:48:11.658417Z",
     "iopub.status.idle": "2025-08-31T15:48:13.486539Z",
     "shell.execute_reply": "2025-08-31T15:48:13.485481Z"
    },
    "papermill": {
     "duration": 1.832893,
     "end_time": "2025-08-31T15:48:13.488068",
     "exception": false,
     "start_time": "2025-08-31T15:48:11.655175",
     "status": "completed"
    },
    "tags": []
   },
   "outputs": [
    {
     "name": "stdout",
     "output_type": "stream",
     "text": [
      "/kaggle/input/titanic/train.csv\n",
      "/kaggle/input/titanic/test.csv\n",
      "/kaggle/input/titanic/gender_submission.csv\n"
     ]
    }
   ],
   "source": [
    "# This Python 3 environment comes with many helpful analytics libraries installed\n",
    "# It is defined by the kaggle/python Docker image: https://github.com/kaggle/docker-python\n",
    "# For example, here's several helpful packages to load\n",
    "\n",
    "import numpy as np # linear algebra\n",
    "import pandas as pd # data processing, CSV file I/O (e.g. pd.read_csv)\n",
    "\n",
    "# Input data files are available in the read-only \"../input/\" directory\n",
    "# For example, running this (by clicking run or pressing Shift+Enter) will list all files under the input directory\n",
    "\n",
    "import os\n",
    "for dirname, _, filenames in os.walk('/kaggle/input'):\n",
    "    for filename in filenames:\n",
    "        print(os.path.join(dirname, filename))\n",
    "\n",
    "# You can write up to 20GB to the current directory (/kaggle/working/) that gets preserved as output when you create a version using \"Save & Run All\" \n",
    "# You can also write temporary files to /kaggle/temp/, but they won't be saved outside of the current session"
   ]
  },
  {
   "cell_type": "markdown",
   "id": "014a1772",
   "metadata": {
    "papermill": {
     "duration": 0.001407,
     "end_time": "2025-08-31T15:48:13.491339",
     "exception": false,
     "start_time": "2025-08-31T15:48:13.489932",
     "status": "completed"
    },
    "tags": []
   },
   "source": [
    "# **Typical workflow for solving Data Science problems**\n",
    "\n",
    "This notebook contains typical workflow for solving Data Science problems, build using notebook: https://www.kaggle.com/code/startupsci/titanic-data-science-solutions \n",
    "\n",
    "\n",
    "**Workflow stages**\n",
    "1. Problem definition\n",
    "2. Acquiring data\n",
    "3. Wrangle, prepare and cleanse the data\n",
    "4. Analysis and exploration of data\n",
    "5. Model\n",
    "6. Visualizations\n",
    "7. Final results\n",
    "\n",
    "   \n",
    "   \n",
    "\n"
   ]
  },
  {
   "cell_type": "markdown",
   "id": "932ce90a",
   "metadata": {
    "papermill": {
     "duration": 0.001105,
     "end_time": "2025-08-31T15:48:13.493791",
     "exception": false,
     "start_time": "2025-08-31T15:48:13.492686",
     "status": "completed"
    },
    "tags": []
   },
   "source": [
    "# 1. Problem definition\n",
    "\n",
    "On April 15, 1912, during maiden voyage, the Titanic sank after colliding with an iceberg, killing 1502 out of 2224 passengers and crew members.\n",
    "\n",
    "High loss of life was due to insufficient number of lifeboats.\n",
    "\n",
    "It seems that some groups of people where more likely to survive then others, such as women, children and the upper-class.\n",
    "\n",
    "Train model on available data and test its performance on test data."
   ]
  }
 ],
 "metadata": {
  "kaggle": {
   "accelerator": "none",
   "dataSources": [
    {
     "databundleVersionId": 26502,
     "sourceId": 3136,
     "sourceType": "competition"
    }
   ],
   "dockerImageVersionId": 31089,
   "isGpuEnabled": false,
   "isInternetEnabled": false,
   "language": "python",
   "sourceType": "notebook"
  },
  "kernelspec": {
   "display_name": "Python 3",
   "language": "python",
   "name": "python3"
  },
  "language_info": {
   "codemirror_mode": {
    "name": "ipython",
    "version": 3
   },
   "file_extension": ".py",
   "mimetype": "text/x-python",
   "name": "python",
   "nbconvert_exporter": "python",
   "pygments_lexer": "ipython3",
   "version": "3.11.13"
  },
  "papermill": {
   "default_parameters": {},
   "duration": 7.838702,
   "end_time": "2025-08-31T15:48:14.014421",
   "environment_variables": {},
   "exception": null,
   "input_path": "__notebook__.ipynb",
   "output_path": "__notebook__.ipynb",
   "parameters": {},
   "start_time": "2025-08-31T15:48:06.175719",
   "version": "2.6.0"
  }
 },
 "nbformat": 4,
 "nbformat_minor": 5
}
